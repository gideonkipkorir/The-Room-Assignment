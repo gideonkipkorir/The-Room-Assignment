{
  "cells": [
    {
      "cell_type": "markdown",
      "metadata": {
        "id": "view-in-github",
        "colab_type": "text"
      },
      "source": [
        "<a href=\"https://colab.research.google.com/github/gideonkipkorir/The-Room-Assignment/blob/main/homework_6.ipynb\" target=\"_parent\"><img src=\"https://colab.research.google.com/assets/colab-badge.svg\" alt=\"Open In Colab\"/></a>"
      ]
    },
    {
      "cell_type": "markdown",
      "metadata": {
        "id": "ntT6rFXIoKwr"
      },
      "source": [
        "# Homework 6\n",
        "\n",
        "In this HW, we will study the pay gap between men and women who have jobs in San Francisco.  We will use the following two csv files to accomplish this task.\n",
        "\n",
        "- Salaries.csv : contains salaries for over 100K employees in SF from 2011-2014.\n",
        "- Names.csv :  contains baby names from 1980 to 2014 along with counts of how many times the given baby name was used.\n",
        "\n",
        "We would like to find the average salary of men and women over all jobs from 2011 to 2014.  The problem, however, is that the Salaries.csv does not contain each person's sex.  Futher, there are many names that are unisex, like Alex.  Since we have counts in the file Names.csv, we can use a majority vote to label the sex of each name in Names.csv. \n",
        "\n",
        "You will be asked to write a series of functions to implement this task. **YOU SHOULD NOT BE USING FOR LOOPS ANYWHERE IS THIS ASSIGMENT. IF YOUR CODE IS TAKING MORE THAN 30 SECONDS TO RUN, THEN YOU HAVE DONE SOMETHING WRONG.**\n",
        "\n",
        "\n",
        "\n",
        "\n",
        "The following function reads in the salary and the names data as pandas dataframes and return a list which contains these two dataframes. "
      ]
    },
    {
      "cell_type": "code",
      "execution_count": 160,
      "metadata": {
        "id": "bJ5O2H5joKw2"
      },
      "outputs": [],
      "source": [
        "#Place your import here\n",
        "import pandas as pd\n",
        "import numpy as np\n",
        "\n",
        "def ReadData():\n",
        "\n",
        "    df_salaries = pd.read_csv(\"/content/Salaries.csv\")\n",
        "    df_names = pd.read_csv(\"/content/Names.csv\")\n",
        "    \n",
        "    \n",
        "    return [df_salaries, df_names]"
      ]
    },
    {
      "cell_type": "code",
      "execution_count": 161,
      "metadata": {
        "colab": {
          "base_uri": "https://localhost:8080/",
          "height": 206
        },
        "id": "gf5ovGtcoKw5",
        "outputId": "b8d8d6c4-83c9-4a7b-e9f6-b3d05c7b74b0"
      },
      "outputs": [
        {
          "output_type": "execute_result",
          "data": {
            "text/html": [
              "<div>\n",
              "<style scoped>\n",
              "    .dataframe tbody tr th:only-of-type {\n",
              "        vertical-align: middle;\n",
              "    }\n",
              "\n",
              "    .dataframe tbody tr th {\n",
              "        vertical-align: top;\n",
              "    }\n",
              "\n",
              "    .dataframe thead th {\n",
              "        text-align: right;\n",
              "    }\n",
              "</style>\n",
              "<table border=\"1\" class=\"dataframe\">\n",
              "  <thead>\n",
              "    <tr style=\"text-align: right;\">\n",
              "      <th></th>\n",
              "      <th>EmployeeName</th>\n",
              "      <th>JobTitle</th>\n",
              "      <th>Total_Pay</th>\n",
              "      <th>Year</th>\n",
              "    </tr>\n",
              "  </thead>\n",
              "  <tbody>\n",
              "    <tr>\n",
              "      <th>0</th>\n",
              "      <td>NATHANIEL FORD</td>\n",
              "      <td>GENERAL MANAGER-METROPOLITAN TRANSIT AUTHORITY</td>\n",
              "      <td>567595.43</td>\n",
              "      <td>2011</td>\n",
              "    </tr>\n",
              "    <tr>\n",
              "      <th>1</th>\n",
              "      <td>GARY JIMENEZ</td>\n",
              "      <td>CAPTAIN III (POLICE DEPARTMENT)</td>\n",
              "      <td>538909.28</td>\n",
              "      <td>2011</td>\n",
              "    </tr>\n",
              "    <tr>\n",
              "      <th>2</th>\n",
              "      <td>ALBERT PARDINI</td>\n",
              "      <td>CAPTAIN III (POLICE DEPARTMENT)</td>\n",
              "      <td>335279.91</td>\n",
              "      <td>2011</td>\n",
              "    </tr>\n",
              "    <tr>\n",
              "      <th>3</th>\n",
              "      <td>CHRISTOPHER CHONG</td>\n",
              "      <td>WIRE ROPE CABLE MAINTENANCE MECHANIC</td>\n",
              "      <td>332343.61</td>\n",
              "      <td>2011</td>\n",
              "    </tr>\n",
              "    <tr>\n",
              "      <th>4</th>\n",
              "      <td>PATRICK GARDNER</td>\n",
              "      <td>DEPUTY CHIEF OF DEPARTMENT,(FIRE DEPARTMENT)</td>\n",
              "      <td>326373.19</td>\n",
              "      <td>2011</td>\n",
              "    </tr>\n",
              "  </tbody>\n",
              "</table>\n",
              "</div>"
            ],
            "text/plain": [
              "        EmployeeName  ...  Year\n",
              "0     NATHANIEL FORD  ...  2011\n",
              "1       GARY JIMENEZ  ...  2011\n",
              "2     ALBERT PARDINI  ...  2011\n",
              "3  CHRISTOPHER CHONG  ...  2011\n",
              "4    PATRICK GARDNER  ...  2011\n",
              "\n",
              "[5 rows x 4 columns]"
            ]
          },
          "metadata": {},
          "execution_count": 161
        }
      ],
      "source": [
        "[df_salaries, df_names] = ReadData()\n",
        "df_salaries.head()"
      ]
    },
    {
      "cell_type": "code",
      "execution_count": 162,
      "metadata": {
        "id": "-vswhQGZoKw6",
        "colab": {
          "base_uri": "https://localhost:8080/",
          "height": 237
        },
        "outputId": "0b4cc145-fc74-452f-e0a7-4758e51050c2"
      },
      "outputs": [
        {
          "output_type": "execute_result",
          "data": {
            "text/html": [
              "<div>\n",
              "<style scoped>\n",
              "    .dataframe tbody tr th:only-of-type {\n",
              "        vertical-align: middle;\n",
              "    }\n",
              "\n",
              "    .dataframe tbody tr th {\n",
              "        vertical-align: top;\n",
              "    }\n",
              "\n",
              "    .dataframe thead th {\n",
              "        text-align: right;\n",
              "    }\n",
              "</style>\n",
              "<table border=\"1\" class=\"dataframe\">\n",
              "  <thead>\n",
              "    <tr style=\"text-align: right;\">\n",
              "      <th></th>\n",
              "      <th>Name</th>\n",
              "      <th>Year</th>\n",
              "      <th>Sex</th>\n",
              "      <th>Count</th>\n",
              "    </tr>\n",
              "  </thead>\n",
              "  <tbody>\n",
              "    <tr>\n",
              "      <th>0</th>\n",
              "      <td>Jessica</td>\n",
              "      <td>1990</td>\n",
              "      <td>F</td>\n",
              "      <td>46466</td>\n",
              "    </tr>\n",
              "    <tr>\n",
              "      <th>1</th>\n",
              "      <td>Ashley</td>\n",
              "      <td>1990</td>\n",
              "      <td>F</td>\n",
              "      <td>45549</td>\n",
              "    </tr>\n",
              "    <tr>\n",
              "      <th>2</th>\n",
              "      <td>Brittany</td>\n",
              "      <td>1990</td>\n",
              "      <td>F</td>\n",
              "      <td>36535</td>\n",
              "    </tr>\n",
              "    <tr>\n",
              "      <th>3</th>\n",
              "      <td>Amanda</td>\n",
              "      <td>1990</td>\n",
              "      <td>F</td>\n",
              "      <td>34406</td>\n",
              "    </tr>\n",
              "    <tr>\n",
              "      <th>4</th>\n",
              "      <td>Samantha</td>\n",
              "      <td>1990</td>\n",
              "      <td>F</td>\n",
              "      <td>25864</td>\n",
              "    </tr>\n",
              "    <tr>\n",
              "      <th>5</th>\n",
              "      <td>Sarah</td>\n",
              "      <td>1990</td>\n",
              "      <td>F</td>\n",
              "      <td>25808</td>\n",
              "    </tr>\n",
              "  </tbody>\n",
              "</table>\n",
              "</div>"
            ],
            "text/plain": [
              "       Name  Year Sex  Count\n",
              "0   Jessica  1990   F  46466\n",
              "1    Ashley  1990   F  45549\n",
              "2  Brittany  1990   F  36535\n",
              "3    Amanda  1990   F  34406\n",
              "4  Samantha  1990   F  25864\n",
              "5     Sarah  1990   F  25808"
            ]
          },
          "metadata": {},
          "execution_count": 162
        }
      ],
      "source": [
        "df_names.head(6)"
      ]
    },
    {
      "cell_type": "markdown",
      "metadata": {
        "id": "FpGEacbeoKw7"
      },
      "source": [
        "## Problem 1 -  Get name counts\n",
        "\n",
        "The following function **Get_Counts** will take df_names as an input. It will then output a dataframe called df_count where the index has a entry for each name that appears in df_names, and there are two columns \"male_count\" and \"female_count\" indicating the number of times (sum of the \"Count\" column) the particular name was ever used for a boy and girl respectively. Hint: One way to do this is to use the unstack method after the groupby.\n",
        "\n"
      ]
    },
    {
      "cell_type": "code",
      "execution_count": 163,
      "metadata": {
        "id": "PnTBbyYHoKw8"
      },
      "outputs": [],
      "source": [
        "def Get_Counts(df_names):\n",
        "    \n",
        "    \n",
        "    #Initialize empty dictionaries for names\n",
        "   \n",
        "    # YOUR CODE HERE\n",
        "    # raise NotImplementedError()\n",
        "   df_count =  dict(df_names.groupby([\"Name\",'Sex'])['Sex'].size().unstack())\n",
        "   df_count =  pd.DataFrame(df_count).reset_index()\n",
        "   df_count['Sex'] = df_names['Sex'].replace(['F','M'],['female','male'])\n",
        "   df_count = df_count.set_index('Name')\n",
        "   df_count.rename(columns={'F': 'female_count', 'M': 'male_count'}, inplace=True) \n",
        "   return df_count"
      ]
    },
    {
      "cell_type": "code",
      "execution_count": 164,
      "metadata": {
        "colab": {
          "base_uri": "https://localhost:8080/",
          "height": 454
        },
        "id": "Eh-7mgyNzb2Z",
        "outputId": "150dd8d7-15b4-4d4f-f50f-3335c20c8c75"
      },
      "outputs": [
        {
          "output_type": "execute_result",
          "data": {
            "text/html": [
              "<div>\n",
              "<style scoped>\n",
              "    .dataframe tbody tr th:only-of-type {\n",
              "        vertical-align: middle;\n",
              "    }\n",
              "\n",
              "    .dataframe tbody tr th {\n",
              "        vertical-align: top;\n",
              "    }\n",
              "\n",
              "    .dataframe thead th {\n",
              "        text-align: right;\n",
              "    }\n",
              "</style>\n",
              "<table border=\"1\" class=\"dataframe\">\n",
              "  <thead>\n",
              "    <tr style=\"text-align: right;\">\n",
              "      <th></th>\n",
              "      <th>female_count</th>\n",
              "      <th>male_count</th>\n",
              "      <th>Sex</th>\n",
              "    </tr>\n",
              "    <tr>\n",
              "      <th>Name</th>\n",
              "      <th></th>\n",
              "      <th></th>\n",
              "      <th></th>\n",
              "    </tr>\n",
              "  </thead>\n",
              "  <tbody>\n",
              "    <tr>\n",
              "      <th>Aaban</th>\n",
              "      <td>NaN</td>\n",
              "      <td>7.0</td>\n",
              "      <td>female</td>\n",
              "    </tr>\n",
              "    <tr>\n",
              "      <th>Aabha</th>\n",
              "      <td>3.0</td>\n",
              "      <td>NaN</td>\n",
              "      <td>female</td>\n",
              "    </tr>\n",
              "    <tr>\n",
              "      <th>Aabid</th>\n",
              "      <td>NaN</td>\n",
              "      <td>1.0</td>\n",
              "      <td>female</td>\n",
              "    </tr>\n",
              "    <tr>\n",
              "      <th>Aabriella</th>\n",
              "      <td>2.0</td>\n",
              "      <td>NaN</td>\n",
              "      <td>female</td>\n",
              "    </tr>\n",
              "    <tr>\n",
              "      <th>Aadam</th>\n",
              "      <td>NaN</td>\n",
              "      <td>21.0</td>\n",
              "      <td>female</td>\n",
              "    </tr>\n",
              "    <tr>\n",
              "      <th>...</th>\n",
              "      <td>...</td>\n",
              "      <td>...</td>\n",
              "      <td>...</td>\n",
              "    </tr>\n",
              "    <tr>\n",
              "      <th>Zytavious</th>\n",
              "      <td>NaN</td>\n",
              "      <td>7.0</td>\n",
              "      <td>male</td>\n",
              "    </tr>\n",
              "    <tr>\n",
              "      <th>Zyvion</th>\n",
              "      <td>NaN</td>\n",
              "      <td>1.0</td>\n",
              "      <td>male</td>\n",
              "    </tr>\n",
              "    <tr>\n",
              "      <th>Zyyanna</th>\n",
              "      <td>1.0</td>\n",
              "      <td>NaN</td>\n",
              "      <td>male</td>\n",
              "    </tr>\n",
              "    <tr>\n",
              "      <th>Zyyon</th>\n",
              "      <td>NaN</td>\n",
              "      <td>1.0</td>\n",
              "      <td>male</td>\n",
              "    </tr>\n",
              "    <tr>\n",
              "      <th>Zzyzx</th>\n",
              "      <td>NaN</td>\n",
              "      <td>1.0</td>\n",
              "      <td>male</td>\n",
              "    </tr>\n",
              "  </tbody>\n",
              "</table>\n",
              "<p>73402 rows × 3 columns</p>\n",
              "</div>"
            ],
            "text/plain": [
              "           female_count  male_count     Sex\n",
              "Name                                       \n",
              "Aaban               NaN         7.0  female\n",
              "Aabha               3.0         NaN  female\n",
              "Aabid               NaN         1.0  female\n",
              "Aabriella           2.0         NaN  female\n",
              "Aadam               NaN        21.0  female\n",
              "...                 ...         ...     ...\n",
              "Zytavious           NaN         7.0    male\n",
              "Zyvion              NaN         1.0    male\n",
              "Zyyanna             1.0         NaN    male\n",
              "Zyyon               NaN         1.0    male\n",
              "Zzyzx               NaN         1.0    male\n",
              "\n",
              "[73402 rows x 3 columns]"
            ]
          },
          "metadata": {},
          "execution_count": 164
        }
      ],
      "source": [
        " Get_Counts(df_names)"
      ]
    },
    {
      "cell_type": "markdown",
      "metadata": {
        "id": "3bN_pwq3oKw_"
      },
      "source": [
        "## Problem 2 -  Get_Sex\n",
        "\n",
        "This function takes in df_counts from the function Get_Counts and df_salaries and it returns a data called df_combined that has the following three columns:\n",
        "    - Total_Pay (from df_salaries)\n",
        "    - Year (from df_salaries)\n",
        "    - Sex (to be created by you)\n",
        "    \n",
        "There will a row in df_combined for each person (row) in df_salaries whose first name appears in df_counts, i.e. we have either/both a female_count and male_count for this first name. If the first name does not appear in df_counts, then you can discard this person.  The way we will guess the sex of each person in df_salaries is to first pull out their first name from the EmployeeName column, and then check the male and female counts in df_couts of this first name, and choose the sex with the higher count. If there is a tie, we will choose female. Use \"M\" to indicate male, and \"F\" to indicate \"female\". "
      ]
    },
    {
      "cell_type": "code",
      "execution_count": 165,
      "metadata": {
        "id": "OX3bzYiQoKxB"
      },
      "outputs": [],
      "source": [
        "def Get_Sex(df_salaries, df_count):\n",
        "        \n",
        "    # YOUR CODE HERE\n",
        "    df_salaries[['First_name', 'last_name']]=df_salaries['EmployeeName'].str.split(' ', n=1, expand=True)\n",
        "    df_salaries['First_name']=df_salaries['First_name'].str.capitalize()\n",
        "    \n",
        "    df_count = df_count.reset_index()\n",
        "    df_count['Name'] = df_count['Name'].str.capitalize()\n",
        "    df_count['female_count'] = df_count['female_count'].fillna(0).astype(int)\n",
        "    df_count['male_count' ]=df_count['male_count' ].fillna(0).astype(int)\n",
        "\n",
        "    gender = []\n",
        "    for i in range(0, len(df_count['female_count'])):\n",
        "      if df_count['female_count'][i] > df_count['male_count'][i]:\n",
        "        gender.append(\"female\") \n",
        "      elif df_count['female_count'][i] < df_count['male_count'][i]:\n",
        "        gender.append(\"male\")\n",
        "      elif df_count['female_count'][i] == df_count['male_count'][i]:\n",
        "        gender.append(df_count['Sex'][i])\n",
        "    df_count['Gender'] =gender\n",
        "        # raise NotImplementedError()\n",
        "    df_combined = pd.merge(df_count, df_salaries, how=\"inner\", left_on= 'Name', right_on= 'First_name')\n",
        "    df_combined.drop(['Sex'],1, inplace= True)\n",
        "    return df_combined"
      ]
    },
    {
      "cell_type": "code",
      "execution_count": 155,
      "metadata": {
        "id": "m6D4A9FVoKxC"
      },
      "outputs": [],
      "source": [
        "[df_salaries, df_names] = ReadData()\n",
        "df_count = Get_Counts(df_names)\n",
        "df_combined = Get_Sex(df_salaries, df_count)\n",
        "assert df_combined.shape[0] == 106718"
      ]
    },
    {
      "cell_type": "markdown",
      "metadata": {
        "id": "KVFokCQvoKxF"
      },
      "source": [
        "## Problem 3 -  Compute the Average Salary\n",
        "\n",
        "In this problem, you will implement a function called **ComputeAvgSalary**. This function takes in df_combined and one of the following four years 2011, 2012, 2013, 2014, and it returns the ratio of avg_male_salary/avg_female_salary for all people in df_combined restricted to the specified year."
      ]
    },
    {
      "cell_type": "code",
      "execution_count": 157,
      "metadata": {
        "id": "cDdIO6Q6oKxG"
      },
      "outputs": [],
      "source": [
        "def ComputeAvgSalary(df_combined, year):\n",
        "    # YOUR CODE HERE\n",
        "    # raise NotImplementedErrocor()\n",
        "    female_avg = df_combined['Total_Pay'][(df_combined['Gender']== 'female') & (df_combined['Year']== year)].mean()\n",
        "    male_avg = df_combined['Total_Pay'][(df_combined['Gender']== 'male') & (df_combined['Year']== year)].mean() \n",
        "    ratio = male_avg/female_avg\n",
        "    return ratio"
      ]
    },
    {
      "cell_type": "code",
      "execution_count": 158,
      "metadata": {
        "id": "FlNCewksoKxH"
      },
      "outputs": [],
      "source": [
        "[df_salaries, df_names] = ReadData()\n",
        "df_count = Get_Counts(df_names)\n",
        "df_combined = Get_Sex(df_salaries, df_count)\n",
        "assert np.isclose(ComputeAvgSalary(df_combined, 2011),1.103892)"
      ]
    },
    {
      "cell_type": "code",
      "execution_count": 159,
      "metadata": {
        "id": "UQd1a41doKxI"
      },
      "outputs": [],
      "source": [
        "assert np.isclose(ComputeAvgSalary(df_combined, 2014),1.09019)"
      ]
    },
    {
      "cell_type": "code",
      "source": [
        ""
      ],
      "metadata": {
        "id": "b_qdbNkBwruy"
      },
      "execution_count": null,
      "outputs": []
    }
  ],
  "metadata": {
    "colab": {
      "name": "homework_6.ipynb",
      "provenance": [],
      "collapsed_sections": [],
      "include_colab_link": true
    },
    "kernelspec": {
      "display_name": "Python 3",
      "language": "python",
      "name": "python3"
    },
    "language_info": {
      "codemirror_mode": {
        "name": "ipython",
        "version": 3
      },
      "file_extension": ".py",
      "mimetype": "text/x-python",
      "name": "python",
      "nbconvert_exporter": "python",
      "pygments_lexer": "ipython3",
      "version": "3.7.6"
    }
  },
  "nbformat": 4,
  "nbformat_minor": 0
}